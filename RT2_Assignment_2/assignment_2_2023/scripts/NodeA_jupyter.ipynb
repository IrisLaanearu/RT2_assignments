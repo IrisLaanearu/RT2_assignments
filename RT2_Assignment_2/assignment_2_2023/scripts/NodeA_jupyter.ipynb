{
 "cells": [
  {
   "cell_type": "markdown",
   "id": "db5f8273",
   "metadata": {},
   "source": [
    "# Node A: User Interface\n"
   ]
  },
  {
   "cell_type": "markdown",
   "id": "01c8a914",
   "metadata": {},
   "source": [
    "This node implements an action client, allowing the user to set a target (x, y) or to cancel it. It uses the feedback/status of the action server to know when the target has been reached. The node also publishes the robot position and velocity as a custom message (x,y, vel_x, vel_z), by relying on the values published on the topic /odom.\n",
    "\n",
    "Additionally, for the Resarch Track II assignment other funcionalities have been implemented. Buttons for robot position, set goals and cancelled goals information have been created. There is also a live plot for the robot position and the active target. Additionally, a plot for the number of set and cancelled goals."
   ]
  },
  {
   "cell_type": "markdown",
   "id": "ac7d45cc",
   "metadata": {},
   "source": [
    "### Import statements\n"
   ]
  },
  {
   "cell_type": "code",
   "execution_count": null,
   "id": "ebc72c74",
   "metadata": {},
   "outputs": [],
   "source": [
    "from __future__ import print_function\n",
    "import rospy\n",
    "import actionlib\n",
    "import assignment_2_2023.msg\n",
    "from geometry_msgs.msg import Point, Pose, Twist\n",
    "from nav_msgs.msg import Odometry\n",
    "from actionlib_msgs.msg import GoalStatus\n",
    "from assignment_2_2023.msg import PlanningFeedback, RobotState\n",
    "import ipywidgets as widgets\n",
    "from IPython.display import display\n",
    "import numpy as np\n",
    "import matplotlib.pyplot as plt\n",
    "from matplotlib.animation import FuncAnimation\n",
    "%matplotlib widget\n",
    "\n",
    "# Robot position\n",
    "x_rob = 0\n",
    "y_rob = 0\n",
    "# Lists for all the set and cancelled goals\n",
    "setgoals = []\n",
    "cancelgoals = []"
   ]
  },
  {
   "cell_type": "markdown",
   "id": "82b5c68a",
   "metadata": {},
   "source": [
    "### Set the goal function"
   ]
  },
  {
   "cell_type": "code",
   "execution_count": null,
   "id": "3a0d717e",
   "metadata": {},
   "outputs": [],
   "source": [
    "def set_goal(client, x, y):\n",
    "    goal = assignment_2_2023.msg.PlanningGoal()\n",
    "    goal.target_pose.pose.position.x = x\n",
    "    goal.target_pose.pose.position.y = y\n",
    "    client.send_goal(goal)\n",
    "    \n",
    "    setgoals.append((x, y))\n",
    "    vis.targets_x.append(x)\n",
    "    vis.targets_y.append(y)\n",
    "    "
   ]
  },
  {
   "cell_type": "markdown",
   "id": "777f3e98",
   "metadata": {},
   "source": [
    "### Cancel the goal function"
   ]
  },
  {
   "cell_type": "code",
   "execution_count": null,
   "id": "b71a4873",
   "metadata": {},
   "outputs": [],
   "source": [
    "def cancel_goal(client, x, y):\n",
    "    if client and client.get_state() == GoalStatus.ACTIVE:\n",
    "        client.cancel_goal()\n",
    "        client.wait_for_result()  # Wait for the cancellation to be processed\n",
    "        \n",
    "        cancelgoals.append((x, y))\n",
    "        return True\n",
    "    else:\n",
    "        print(\"No active goal to cancel.\")\n",
    "        return False"
   ]
  },
  {
   "cell_type": "markdown",
   "id": "5fcbb894",
   "metadata": {},
   "source": [
    "### Callback function for the odom topic"
   ]
  },
  {
   "cell_type": "code",
   "execution_count": null,
   "id": "b46e75a0",
   "metadata": {},
   "outputs": [],
   "source": [
    "def odom_callback(odom_msg,robot_state_publisher):\n",
    "    global x_rob, y_rob, client\n",
    "    # Extract position and velocity of the robot from the odom message\n",
    "    x = odom_msg.pose.pose.position.x\n",
    "    y = odom_msg.pose.pose.position.y\n",
    "    vel_x = odom_msg.twist.twist.linear.x\n",
    "    vel_z = odom_msg.twist.twist.angular.z\n",
    "    \n",
    "    # Saving robot position to different global variables\n",
    "    x_rob = odom_msg.pose.pose.position.x\n",
    "    y_rob = odom_msg.pose.pose.position.y\n",
    "\n",
    "    # Publish the position and velocity on the RobotState topic\n",
    "    robot_state_msg = RobotState(x=x, y=y, vel_x=vel_x, vel_z=vel_z) # Write the message\n",
    "    robot_state_publisher.publish(robot_state_msg) # Publish the message\n",
    "    \n",
    "    # Append new x and y values\n",
    "    vis.y_data.append(odom_msg.pose.pose.position.y)\n",
    "    vis.x_data.append(odom_msg.pose.pose.position.x)\n",
    "\n",
    "    # Get the goal status and print the info \n",
    "    goal_status = client.get_state()\n",
    "\n",
    "    # If the goal has been reached            \n",
    "    if goal_status == GoalStatus.SUCCEEDED:\n",
    "        textarea.value = \"Goal is reached.\"\n",
    "\n",
    "        # Remove the target from the list\n",
    "        vis.targets_x.pop()\n",
    "        vis.targets_y.pop()\n",
    "\n",
    "    # If the goal has been canceled    \n",
    "    elif goal_status == GoalStatus.PREEMPTED:\n",
    "        textarea.value = \"Goal is cancelled.\"\n",
    "\n",
    "        # Remove the target from the list\n",
    "        vis.targets_x.pop()\n",
    "        vis.targets_y.pop()\n",
    "    \n",
    "    # If the goal is active  \n",
    "    elif goal_status == GoalStatus.ACTIVE:\n",
    "        textarea.value = \"Goal is active.\"\n",
    "    \n",
    "    # If the goal is not active      \n",
    "    elif goal_status == GoalStatus.LOST:\n",
    "        textarea.value = \"Goal is not active.\"\n",
    "    \n",
    "    # If the goal status is unknown \n",
    "    else:\n",
    "        textarea.value = \"Unknown goal state. Status code: {}\".format(goal_status)"
   ]
  },
  {
   "cell_type": "markdown",
   "id": "c008b510",
   "metadata": {},
   "source": [
    "### Robots position"
   ]
  },
  {
   "cell_type": "markdown",
   "id": "ff45618d",
   "metadata": {},
   "source": [
    "Let the user know the position of the robot by clicking on the button 'Current robot position'."
   ]
  },
  {
   "cell_type": "code",
   "execution_count": null,
   "id": "fd0781dd",
   "metadata": {},
   "outputs": [],
   "source": [
    "# Create button widget\n",
    "button = widgets.Button(description=\"Current robot position\")\n",
    "\n",
    "# Output widget to display output\n",
    "output = widgets.Output()\n",
    "\n",
    "# Function to handle button click event\n",
    "def on_button_clicked(b):\n",
    "    with output:\n",
    "        # Clear previous output\n",
    "        output.clear_output(wait=True)\n",
    "        print(f\"\\nCurrent robot position: x = {x_rob:.4f}, y = {y_rob:.4f}\")\n",
    "        \n",
    "# Attach event handler to the button widget\n",
    "button.on_click(on_button_clicked)\n",
    "\n",
    "# Display button widget and output\n",
    "display(button, output)"
   ]
  },
  {
   "cell_type": "markdown",
   "id": "e528feb8",
   "metadata": {},
   "source": [
    "### Set and cancelled goals"
   ]
  },
  {
   "cell_type": "markdown",
   "id": "dd1aefec",
   "metadata": {},
   "source": [
    "Let the user know all targets that have been set and cancelled in the environment by clicking on the button 'Set goals' and 'Cancelled goals' respectively."
   ]
  },
  {
   "cell_type": "code",
   "execution_count": null,
   "id": "470b182e",
   "metadata": {},
   "outputs": [],
   "source": [
    "# Create button widget\n",
    "button1 = widgets.Button(description=\"Set goals\")\n",
    "button2 = widgets.Button(description=\"Cancelled goals\")\n",
    "\n",
    "# Output widgets to display output\n",
    "output1 = widgets.Output()\n",
    "output2 = widgets.Output()\n",
    "\n",
    "# Function to handle button 1 click event\n",
    "def on_button1_clicked(b):\n",
    "    with output1:\n",
    "        # Clear previous output\n",
    "        output1.clear_output(wait=True)\n",
    "        \n",
    "        print(f\"\\nSet goals\")\n",
    "        for x, y in setgoals:\n",
    "            print(f\"\\nx = {x:.4f}, y = {y:.4f}\")\n",
    "            \n",
    "# Function to handle button 2 click event\n",
    "def on_button2_clicked(b):\n",
    "    with output2:\n",
    "        # Clear previous output\n",
    "        output2.clear_output(wait=True)\n",
    "        \n",
    "        print(f\"\\nCancelled goals\")\n",
    "        for x, y in cancelgoals:\n",
    "            print(f\"\\nx = {x:.4f}, y = {y:.4f}\")\n",
    "            print(len(cancelgoals))\n",
    "\n",
    "# Attach event handler to the button widget\n",
    "button1.on_click(on_button1_clicked)\n",
    "button2.on_click(on_button2_clicked)\n",
    "\n",
    "# Display button widgets and output widgets separately\n",
    "display(widgets.VBox([button1, output1]))\n",
    "display(widgets.VBox([button2, output2]))  \n",
    "         "
   ]
  },
  {
   "cell_type": "markdown",
   "id": "c33e6d65",
   "metadata": {},
   "source": [
    "### Plots: Robot positions and set and cancelled targets"
   ]
  },
  {
   "cell_type": "code",
   "execution_count": null,
   "id": "950d725d",
   "metadata": {},
   "outputs": [],
   "source": [
    "# Class for both plots\n",
    "class Visualiser:\n",
    "    def __init__(self):\n",
    "        self.fig, (self.ax1, self.ax2) = plt.subplots(1,2)\n",
    "        self.ln, = self.ax1.plot([], [], 'ro')\n",
    "        self.x_pts, = self.ax1.plot([], [], 'x')\n",
    "        self.x_data, self.y_data = [], []\n",
    "        self.targets_x, self.targets_y = [], []\n",
    "        \n",
    "    def plot_init(self):\n",
    "        self.ax1.set_xlim(-10.0, 10.0)\n",
    "        self.ax1.set_ylim(-10.0, 10.0)\n",
    "        self.ax1.grid(True)\n",
    "        \n",
    "        self.ax2.set_ylim(0, 10)\n",
    "        \n",
    "        self.bar_labels = ['Set goals', 'Cancelled goals']\n",
    "        self.bar_colors = ['tab:blue', 'tab:red']\n",
    "        self.setgoals, self.cancelgoals = [], []\n",
    "        self.bar = self.ax2.bar(self.bar_labels, [0,0], label=self.bar_labels, color=self.bar_colors)\n",
    "        \n",
    "        return self.ln, self.bar\n",
    "    \n",
    "    def update_plot(self, frame):\n",
    "        self.ln.set_data(self.x_data, self.y_data)\n",
    "        self.x_pts.set_data(self.targets_x, self.targets_y)\n",
    "        for bb, ii in zip(self.bar, [len(setgoals),len(cancelgoals)]):\n",
    "            bb.set_height(ii)\n",
    "\n",
    "        return self.ln, self.bar\n",
    "    \n",
    "vis = Visualiser()\n",
    "\n",
    "# Create FuncAnimation with update_plot and plot_init methods\n",
    "ani = FuncAnimation(vis.fig, vis.update_plot, init_func = vis.plot_init)\n",
    "# Show the plot\n",
    "plt.show()"
   ]
  },
  {
   "cell_type": "markdown",
   "id": "fed17f56",
   "metadata": {},
   "source": [
    "## Main function"
   ]
  },
  {
   "cell_type": "code",
   "execution_count": null,
   "id": "eeaf4f87",
   "metadata": {
    "scrolled": false
   },
   "outputs": [],
   "source": [
    "# Initializes a rospy node so that the SimpleActionClient can publish and subscribe over ROS\n",
    "rospy.init_node('user_interface')\n",
    "\n",
    "# Create the SimpleActionClient\n",
    "client = actionlib.SimpleActionClient('/reaching_goal', assignment_2_2023.msg.PlanningAction)\n",
    "        \n",
    "# Wait until the action server has started up and started listening for goals\n",
    "client.wait_for_server()\n",
    "\n",
    "# Publisher to the RobotState custom message\n",
    "robot_state_publisher = rospy.Publisher('/RobotState', RobotState, queue_size=1)\n",
    "\n",
    "# Create a Textarea widget to display the goal status\n",
    "textarea = widgets.Text(description = 'Goal state', disabled = True,\n",
    "                       layout = widgets.Layout(height = '30px', width = '270px'))\n",
    "\n",
    "# Subscribe to the /odom topic\n",
    "odom_subscriber = rospy.Subscriber('/odom', Odometry, odom_callback, robot_state_publisher, queue_size=1)\n",
    "\n",
    "# Header widget\n",
    "header_label = widgets.Label(value='Enter the goal', style={'font-weight': 'bold'})\n",
    "\n",
    "# Create sliders and outputs\n",
    "x_slider = widgets.IntSlider(\n",
    "    min=-10,\n",
    "    max=10,\n",
    "    description='x coordinate',\n",
    "    continuous_update=False\n",
    ")\n",
    "\n",
    "y_slider = widgets.IntSlider(\n",
    "    min=-10,\n",
    "    max=10,\n",
    "    description='y coordinate',\n",
    "    continuous_update=False\n",
    ")\n",
    "\n",
    "output_slider = widgets.Output()\n",
    "\n",
    "cancel_dropdown = widgets.Dropdown(\n",
    "    options=['(None)', 'No', 'Yes'],\n",
    "    value='(None)',\n",
    "    disabled=False,\n",
    "    layout={'width': 'auto', 'description_width': 'initial'}\n",
    ")\n",
    "    \n",
    "# Create a VBox to hold x_slider, output1, and the cancel_dropdown\n",
    "x_box = widgets.VBox([header_label, x_slider, output_slider])\n",
    "display(x_box)\n",
    "\n",
    "# Create a VBox to hold y_slider and output2\n",
    "y_box = widgets.VBox([y_slider, output_slider, widgets.HBox([widgets.Label('Do you want to cancel the goal?'), cancel_dropdown])])\n",
    "display(y_box)\n",
    "    \n",
    "def on_value_change(change):\n",
    "    if x_slider.value is not None and y_slider.value is not None:\n",
    "        with output_slider:\n",
    "            # Send the goal\n",
    "            set_goal(client, x_slider.value, y_slider.value)\n",
    "\n",
    "# Observe only the y coordinate value\n",
    "#x_slider.observe(on_value_change, names='value')\n",
    "y_slider.observe(on_value_change, names='value')\n",
    "\n",
    "def on_cancel_change(change):\n",
    "    if change['new'] == 'Yes':\n",
    "        success = cancel_goal(client, x_slider.value, y_slider.value)\n",
    "\n",
    "# Attach the change event handler\n",
    "cancel_dropdown.observe(on_cancel_change, names='value')\n",
    "\n",
    "# Display the textarea widget\n",
    "display(textarea)"
   ]
  }
 ],
 "metadata": {
  "kernelspec": {
   "display_name": "Python 3 (ipykernel)",
   "language": "python",
   "name": "python3"
  },
  "language_info": {
   "codemirror_mode": {
    "name": "ipython",
    "version": 3
   },
   "file_extension": ".py",
   "mimetype": "text/x-python",
   "name": "python",
   "nbconvert_exporter": "python",
   "pygments_lexer": "ipython3",
   "version": "3.8.5"
  }
 },
 "nbformat": 4,
 "nbformat_minor": 5
}
